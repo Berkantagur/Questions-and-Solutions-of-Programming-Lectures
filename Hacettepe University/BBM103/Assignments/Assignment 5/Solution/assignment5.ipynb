{
 "cells": [
  {
   "cell_type": "code",
   "execution_count": 1,
   "id": "3876688b",
   "metadata": {},
   "outputs": [],
   "source": [
    "import pandas as pd\n",
    "import numpy as np\n",
    "import matplotlib.pyplot as plt"
   ]
  },
  {
   "cell_type": "code",
   "execution_count": 43,
   "id": "3c8f5040-9c1f-465c-adf0-cdb5634bec08",
   "metadata": {},
   "outputs": [],
   "source": [
    "#I coded a function to compute euclidian distance between whole train array and one line of test array"
   ]
  },
  {
   "cell_type": "code",
   "execution_count": 44,
   "id": "acd8a005-ee40-4c19-ae74-7a4383872931",
   "metadata": {},
   "outputs": [],
   "source": [
    "def euclidean_distance_calculate(x_test, x_train):\n",
    "    return np.sqrt(np.sum(((x_test-x_train)**2),axis=1))"
   ]
  },
  {
   "cell_type": "code",
   "execution_count": 46,
   "id": "e4d908ad-703e-48e5-9eb8-b5d093cd2377",
   "metadata": {},
   "outputs": [],
   "source": [
    "#I coded a function, which calls euclidean_distance_calculator and checks top k nearest points and returns its prediction"
   ]
  },
  {
   "cell_type": "code",
   "execution_count": 45,
   "id": "e0efc2d7",
   "metadata": {},
   "outputs": [],
   "source": [
    "def knn_calculator(x_train, x_test, y_train, k):\n",
    "    distance = euclidean_distance_calculate(x_test, x_train)\n",
    "\n",
    "    combined_x_and_y_list = np.column_stack((distance,y_train)).tolist()\n",
    "    combined_x_and_y_list.sort(key=lambda x:x[0])\n",
    "    \n",
    "    top_k_personalities = [second_number for first_number, second_number in combined_x_and_y_list[:k]]\n",
    "    \n",
    "    prediction = 0\n",
    "    for number in set(top_k_personalities):\n",
    "        if top_k_personalities.count(number) > top_k_personalities.count(prediction):\n",
    "            prediction = number\n",
    "    return prediction"
   ]
  },
  {
   "cell_type": "code",
   "execution_count": 90,
   "id": "116cb347-191b-41f0-a441-01ae1fab626a",
   "metadata": {},
   "outputs": [],
   "source": [
    "#This is main function. It applies cross validation on X1, X2, X3, X4, X5 column partitions It takes two parameters. Test_fold_number\n",
    "#indicates which fold we are going to use as test. Numbers are 1,2,3,4,5. It takes the number as test fold, other as train folds. Calls \n",
    "#knn_calculator function to check if our prediction is true. At the end of the code it computes accuracy, precision, recall depending on \n",
    "#the correct and wrong answers."
   ]
  },
  {
   "cell_type": "code",
   "execution_count": 4,
   "id": "29cd3739",
   "metadata": {},
   "outputs": [],
   "source": [
    "def main(test_fold_number,k):    \n",
    "    global accuracy_global,precision_global, recall_global\n",
    " \n",
    "    FN,FP,TP,TN = 0,0,0,0\n",
    "\n",
    "    number_list = [1,2,3,4,5]\n",
    "    number_list.remove(test_fold_number)\n",
    "\n",
    "    X_train = np.concatenate((globals()['X'+str(number_list[0])],globals()['X'+str(number_list[1])],\\\n",
    "                              globals()['X'+str(number_list[2])],globals()['X'+str(number_list[3])]))\n",
    "    \n",
    "    Y_train = np.concatenate((globals()['Y'+str(number_list[0])],globals()['Y'+str(number_list[1])],\\\n",
    "                              globals()['Y'+str(number_list[2])],globals()['Y'+str(number_list[3])]))\n",
    "    \n",
    "    X_test = globals()['X'+str(test_fold_number)]\n",
    "    Y_test = globals()['Y'+str(test_fold_number)]\n",
    "    \n",
    "    for index in range(X_test.shape[0]):\n",
    "        if Y_test[index]==int((knn_calculator(X_train ,X_test ,Y_train, k))):\n",
    "            TP += 1\n",
    "            TN += 15\n",
    "        else:\n",
    "            FN += 1   \n",
    "            FP += 1\n",
    "\n",
    "    accuracy = (TP+TN)/(TP+TN+FN+FP)\n",
    "    precision = (TP)/(TP+FP)\n",
    "    recall = (TP/(TP+FN))\n",
    "\n",
    "    accuracy_global += accuracy\n",
    "    precision_global += precision\n",
    "    recall_global += recall\n",
    "\n",
    "\n",
    "    print(f'Fold {test_fold_number}')\n",
    "    print('Accuracy:', accuracy)\n",
    "    print('Precision:', precision)\n",
    "    print('Recall:', recall)\n",
    "    print()"
   ]
  },
  {
   "cell_type": "code",
   "execution_count": 49,
   "id": "d1b3b2bf-6b46-49b6-999d-41e32d2b7a90",
   "metadata": {},
   "outputs": [],
   "source": [
    "#I opened csv_file, dropped 'Response Id' column. Then encoded personality types with the numbers in the dictionary part. Then shuffled."
   ]
  },
  {
   "cell_type": "code",
   "execution_count": 6,
   "id": "0aa09e54",
   "metadata": {},
   "outputs": [
    {
     "name": "stdout",
     "output_type": "stream",
     "text": [
      "       You regularly make new friends.  \\\n",
      "54155                                0   \n",
      "41054                               -1   \n",
      "49497                                0   \n",
      "28591                               -1   \n",
      "5257                                 0   \n",
      "\n",
      "       You spend a lot of your free time exploring various random topics that pique your interest  \\\n",
      "54155                                                  0                                            \n",
      "41054                                                  0                                            \n",
      "49497                                                  0                                            \n",
      "28591                                                  0                                            \n",
      "5257                                                  -1                                            \n",
      "\n",
      "       Seeing other people cry can easily make you feel like you want to cry too  \\\n",
      "54155                                                  1                           \n",
      "41054                                                 -1                           \n",
      "49497                                                  1                           \n",
      "28591                                                  1                           \n",
      "5257                                                   0                           \n",
      "\n",
      "       You often make a backup plan for a backup plan.  \\\n",
      "54155                                                0   \n",
      "41054                                                1   \n",
      "49497                                               -2   \n",
      "28591                                                0   \n",
      "5257                                                 2   \n",
      "\n",
      "       You usually stay calm, even under a lot of pressure  \\\n",
      "54155                                                  1     \n",
      "41054                                                 -2     \n",
      "49497                                                  0     \n",
      "28591                                                  3     \n",
      "5257                                                   3     \n",
      "\n",
      "       At social events, you rarely try to introduce yourself to new people and mostly talk to the ones you already know  \\\n",
      "54155                                                 -3                                                                   \n",
      "41054                                                 -2                                                                   \n",
      "49497                                                  1                                                                   \n",
      "28591                                                 -3                                                                   \n",
      "5257                                                  -1                                                                   \n",
      "\n",
      "       You prefer to completely finish one project before starting another.  \\\n",
      "54155                                                 -1                      \n",
      "41054                                                 -1                      \n",
      "49497                                                  0                      \n",
      "28591                                                  0                      \n",
      "5257                                                   2                      \n",
      "\n",
      "       You are very sentimental.  \\\n",
      "54155                          0   \n",
      "41054                          0   \n",
      "49497                          0   \n",
      "28591                          0   \n",
      "5257                           0   \n",
      "\n",
      "       You like to use organizing tools like schedules and lists.  \\\n",
      "54155                                                  0            \n",
      "41054                                                  1            \n",
      "49497                                                  1            \n",
      "28591                                                  0            \n",
      "5257                                                  -2            \n",
      "\n",
      "       Even a small mistake can cause you to doubt your overall abilities and knowledge.  \\\n",
      "54155                                                  0                                   \n",
      "41054                                                  0                                   \n",
      "49497                                                  0                                   \n",
      "28591                                                  0                                   \n",
      "5257                                                  -1                                   \n",
      "\n",
      "       ...  \\\n",
      "54155  ...   \n",
      "41054  ...   \n",
      "49497  ...   \n",
      "28591  ...   \n",
      "5257   ...   \n",
      "\n",
      "       You believe that pondering abstract philosophical questions is a waste of time.  \\\n",
      "54155                                                  0                                 \n",
      "41054                                                  0                                 \n",
      "49497                                                  0                                 \n",
      "28591                                                  0                                 \n",
      "5257                                                  -1                                 \n",
      "\n",
      "       You feel more drawn to places with busy, bustling atmospheres than quiet, intimate places.  \\\n",
      "54155                                                  0                                            \n",
      "41054                                                  1                                            \n",
      "49497                                                 -1                                            \n",
      "28591                                                  1                                            \n",
      "5257                                                   1                                            \n",
      "\n",
      "       You know at first glance how someone is feeling.  \\\n",
      "54155                                                 0   \n",
      "41054                                                 0   \n",
      "49497                                                 0   \n",
      "28591                                                 0   \n",
      "5257                                                  0   \n",
      "\n",
      "       You often feel overwhelmed.  \\\n",
      "54155                           -2   \n",
      "41054                            1   \n",
      "49497                            1   \n",
      "28591                            1   \n",
      "5257                             0   \n",
      "\n",
      "       You complete things methodically without skipping over any steps.  \\\n",
      "54155                                                  0                   \n",
      "41054                                                  0                   \n",
      "49497                                                  0                   \n",
      "28591                                                 -1                   \n",
      "5257                                                   0                   \n",
      "\n",
      "       You are very intrigued by things labeled as controversial.  \\\n",
      "54155                                                  0            \n",
      "41054                                                  0            \n",
      "49497                                                 -1            \n",
      "28591                                                  0            \n",
      "5257                                                   0            \n",
      "\n",
      "       You would pass along a good opportunity if you thought someone else needed it more.  \\\n",
      "54155                                                  2                                     \n",
      "41054                                                 -2                                     \n",
      "49497                                                 -2                                     \n",
      "28591                                                  3                                     \n",
      "5257                                                   1                                     \n",
      "\n",
      "       You struggle with deadlines.  \\\n",
      "54155                            -2   \n",
      "41054                             0   \n",
      "49497                            -3   \n",
      "28591                             2   \n",
      "5257                              1   \n",
      "\n",
      "       You feel confident that things will work out for you.  Personality  \n",
      "54155                                                 -1                2  \n",
      "41054                                                  1                6  \n",
      "49497                                                  2               12  \n",
      "28591                                                  0                2  \n",
      "5257                                                   1                2  \n",
      "\n",
      "[5 rows x 61 columns]\n"
     ]
    }
   ],
   "source": [
    "csv_file = pd.read_csv('16P.csv',encoding='cp1252')\n",
    "\n",
    "df = pd.DataFrame(csv_file)\n",
    "df.drop('Response Id',inplace=True,axis=1)\n",
    "\n",
    "dictionary = {'ESTJ':0, 'ENTJ':1, 'ESFJ':2, 'ENFJ': 3, 'ISTJ': 4, 'ISFJ': 5, 'INTJ': 6, 'INFJ': 7, 'ESTP': 8, 'ESFP': 9, 'ENTP': 10, 'ENFP': 11, 'ISTP': 12, 'ISFP': 13, 'INTP': 14, 'INFP': 15} \n",
    "\n",
    "df['Personality'] = df['Personality'].replace(dictionary)\n",
    "\n",
    "df = df.sample(frac = 1)\n",
    "print(df.head())"
   ]
  },
  {
   "cell_type": "code",
   "execution_count": 50,
   "id": "70b055c0-aa3e-494b-91db-9f3ad1ae6175",
   "metadata": {},
   "outputs": [],
   "source": [
    "#I simply seperated my columns to 5 folds. "
   ]
  },
  {
   "cell_type": "code",
   "execution_count": 7,
   "id": "56fcaf20",
   "metadata": {},
   "outputs": [],
   "source": [
    "X1 = df.to_numpy()[:,:-1][:12000]\n",
    "Y1 = df.to_numpy()[:,-1][:12000]\n",
    "\n",
    "X2 = df.to_numpy()[:,:-1][12000:24000]\n",
    "Y2 = df.to_numpy()[:,-1][12000:24000]\n",
    "\n",
    "X3 = df.to_numpy()[:,:-1][24000:36000]\n",
    "Y3 = df.to_numpy()[:,-1][24000:36000]\n",
    "\n",
    "X4 = df.to_numpy()[:,:-1][36000:48000]\n",
    "Y4 = df.to_numpy()[:,-1][36000:48000]\n",
    "\n",
    "X5 = df.to_numpy()[:,:-1][48000:]\n",
    "Y5 = df.to_numpy()[:,-1][48000:]\n",
    "\n"
   ]
  },
  {
   "cell_type": "code",
   "execution_count": 51,
   "id": "7764dbe3-e8d4-48f8-9ca9-26783f3b9597",
   "metadata": {},
   "outputs": [],
   "source": [
    "#Calculation for k=1 Without Feature Normalization."
   ]
  },
  {
   "cell_type": "code",
   "execution_count": 15,
   "id": "a108a7a6",
   "metadata": {},
   "outputs": [
    {
     "name": "stdout",
     "output_type": "stream",
     "text": [
      "Results for k=1 Without Feature Normalization\n",
      "\n",
      "Fold 1\n",
      "Accuracy: 0.997044251174857\n",
      "Precision: 0.9768333333333333\n",
      "Recall: 0.9768333333333333\n",
      "\n",
      "Fold 2\n",
      "Accuracy: 0.9970659522898329\n",
      "Precision: 0.977\n",
      "Recall: 0.977\n",
      "\n",
      "Fold 3\n",
      "Accuracy: 0.9971093351470838\n",
      "Precision: 0.9773333333333334\n",
      "Recall: 0.9773333333333334\n",
      "\n",
      "Fold 4\n",
      "Accuracy: 0.9969791090499085\n",
      "Precision: 0.9763333333333334\n",
      "Recall: 0.9763333333333334\n",
      "\n",
      "Fold 5\n",
      "Accuracy: 0.9972823779193206\n",
      "Precision: 0.9786648887407284\n",
      "Recall: 0.9786648887407284\n",
      "\n",
      "Averages of k=1\n",
      "Average Accuracy: 0.9970962051162007\n",
      "Average Precision: 0.9772329777481458\n",
      "Average Recall: 0.9772329777481458\n"
     ]
    }
   ],
   "source": [
    "accuracy_global = 0\n",
    "precision_global = 0\n",
    "recall_global = 0\n",
    "\n",
    "print('Results for k=1 Without Feature Normalization\\n')\n",
    "\n",
    "main(1,1)\n",
    "main(2,1)\n",
    "main(3,1)\n",
    "main(4,1)\n",
    "main(5,1)\n",
    "\n",
    "print(f'Averages of k=1')\n",
    "print('Average Accuracy:', accuracy_global/5)\n",
    "print('Average Precision:', precision_global/5)\n",
    "print('Average Recall:', recall_global/5)"
   ]
  },
  {
   "cell_type": "code",
   "execution_count": 53,
   "id": "f065c041-6267-4751-b327-7c86a6003ec7",
   "metadata": {},
   "outputs": [],
   "source": [
    "#Calculation for k=3 Without Feature Normalization."
   ]
  },
  {
   "cell_type": "code",
   "execution_count": 16,
   "id": "b00f005a",
   "metadata": {},
   "outputs": [
    {
     "name": "stdout",
     "output_type": "stream",
     "text": [
      "Results for k=3 Without Feature Normalization\n",
      "\n",
      "Fold 1\n",
      "Accuracy: 0.9985691440114468\n",
      "Precision: 0.9886666666666667\n",
      "Recall: 0.9886666666666667\n",
      "\n",
      "Fold 2\n",
      "Accuracy: 0.9985159925483881\n",
      "Precision: 0.98825\n",
      "Recall: 0.98825\n",
      "\n",
      "Fold 3\n",
      "Accuracy: 0.9984095720590249\n",
      "Precision: 0.9874166666666667\n",
      "Recall: 0.9874166666666667\n",
      "\n",
      "Fold 4\n",
      "Accuracy: 0.9985478881242502\n",
      "Precision: 0.9885\n",
      "Recall: 0.9885\n",
      "\n",
      "Fold 5\n",
      "Accuracy: 0.9986646057432468\n",
      "Precision: 0.9894157846487207\n",
      "Recall: 0.9894157846487207\n",
      "\n",
      "Averages of k=3\n",
      "Average Accuracy: 0.9985414404972712\n",
      "Average Precision: 0.9884498235964108\n",
      "Average Recall: 0.9884498235964108\n"
     ]
    }
   ],
   "source": [
    "accuracy_global = 0\n",
    "precision_global = 0\n",
    "recall_global = 0\n",
    "\n",
    "print('Results for k=3 Without Feature Normalization\\n')\n",
    "\n",
    "main(1,3)\n",
    "main(2,3)\n",
    "main(3,3)\n",
    "main(4,3)\n",
    "main(5,3)\n",
    "\n",
    "print(f'Averages of k=3')\n",
    "print('Average Accuracy:', accuracy_global/5)\n",
    "print('Average Precision:', precision_global/5)\n",
    "print('Average Recall:', recall_global/5)"
   ]
  },
  {
   "cell_type": "code",
   "execution_count": 54,
   "id": "537bcb8c-aa45-4c84-9c5d-c5c7f0cd57dc",
   "metadata": {},
   "outputs": [],
   "source": [
    "#Calculation for k=5 Without Feature Normalization."
   ]
  },
  {
   "cell_type": "code",
   "execution_count": 17,
   "id": "50123f4e",
   "metadata": {},
   "outputs": [
    {
     "name": "stdout",
     "output_type": "stream",
     "text": [
      "Results for k=5 Without Feature Normalization\n",
      "\n",
      "Fold 1\n",
      "Accuracy: 0.9986222563444569\n",
      "Precision: 0.9890833333333333\n",
      "Recall: 0.9890833333333333\n",
      "\n",
      "Fold 2\n",
      "Accuracy: 0.9986116370061845\n",
      "Precision: 0.989\n",
      "Recall: 0.989\n",
      "\n",
      "Fold 3\n",
      "Accuracy: 0.9984947209970632\n",
      "Precision: 0.9880833333333333\n",
      "Recall: 0.9880833333333333\n",
      "\n",
      "Fold 4\n",
      "Accuracy: 0.9986222563444569\n",
      "Precision: 0.9890833333333333\n",
      "Recall: 0.9890833333333333\n",
      "\n",
      "Fold 5\n",
      "Accuracy: 0.9987388599293762\n",
      "Precision: 0.9899991665972164\n",
      "Recall: 0.9899991665972164\n",
      "\n",
      "Averages of k=5\n",
      "Average Accuracy: 0.9986179461243075\n",
      "Average Precision: 0.9890498333194433\n",
      "Average Recall: 0.9890498333194433\n"
     ]
    }
   ],
   "source": [
    "accuracy_global = 0\n",
    "precision_global = 0\n",
    "recall_global = 0\n",
    "\n",
    "print('Results for k=5 Without Feature Normalization\\n')\n",
    "\n",
    "main(1,5)\n",
    "main(2,5)\n",
    "main(3,5)\n",
    "main(4,5)\n",
    "main(5,5)\n",
    "\n",
    "print(f'Averages of k=5')\n",
    "print('Average Accuracy:', accuracy_global/5)\n",
    "print('Average Precision:', precision_global/5)\n",
    "print('Average Recall:', recall_global/5)"
   ]
  },
  {
   "cell_type": "code",
   "execution_count": 55,
   "id": "cf651e6d-34d3-434e-816c-8861deda221b",
   "metadata": {},
   "outputs": [],
   "source": [
    "#Calculation for k=7 Without Feature Normalization."
   ]
  },
  {
   "cell_type": "code",
   "execution_count": 18,
   "id": "86ff2009",
   "metadata": {},
   "outputs": [
    {
     "name": "stdout",
     "output_type": "stream",
     "text": [
      "Results for k=7 Without Feature Normalization\n",
      "\n",
      "Fold 1\n",
      "Accuracy: 0.9986859395532195\n",
      "Precision: 0.9895833333333334\n",
      "Recall: 0.9895833333333334\n",
      "\n",
      "Fold 2\n",
      "Accuracy: 0.9986222563444569\n",
      "Precision: 0.9890833333333333\n",
      "Recall: 0.9890833333333333\n",
      "\n",
      "Fold 3\n",
      "Accuracy: 0.9985266259734793\n",
      "Precision: 0.9883333333333333\n",
      "Recall: 0.9883333333333333\n",
      "\n",
      "Fold 4\n",
      "Accuracy: 0.9986647180662594\n",
      "Precision: 0.9894166666666667\n",
      "Recall: 0.9894166666666667\n",
      "\n",
      "Fold 5\n",
      "Accuracy: 0.9987812565665055\n",
      "Precision: 0.9903325277106425\n",
      "Recall: 0.9903325277106425\n",
      "\n",
      "Averages of k=7\n",
      "Average Accuracy: 0.9986561593007842\n",
      "Average Precision: 0.9893498388754619\n",
      "Average Recall: 0.9893498388754619\n"
     ]
    }
   ],
   "source": [
    "accuracy_global = 0\n",
    "precision_global = 0\n",
    "recall_global = 0\n",
    "\n",
    "print('Results for k=7 Without Feature Normalization\\n')\n",
    "\n",
    "main(1,7)\n",
    "main(2,7)\n",
    "main(3,7)\n",
    "main(4,7)\n",
    "main(5,7)\n",
    "\n",
    "print(f'Averages of k=7')\n",
    "print('Average Accuracy:', accuracy_global/5)\n",
    "print('Average Precision:', precision_global/5)\n",
    "print('Average Recall:', recall_global/5)"
   ]
  },
  {
   "cell_type": "code",
   "execution_count": 56,
   "id": "3c0e0831-0417-4fe4-a102-8d0f9659cec4",
   "metadata": {},
   "outputs": [],
   "source": [
    "#Calculation for k=9 Without Feature Normalization."
   ]
  },
  {
   "cell_type": "code",
   "execution_count": 19,
   "id": "02ad356c",
   "metadata": {},
   "outputs": [
    {
     "name": "stdout",
     "output_type": "stream",
     "text": [
      "Results for k=9 Without Feature Normalization\n",
      "\n",
      "Fold 1\n",
      "Accuracy: 0.9986965479544212\n",
      "Precision: 0.9896666666666667\n",
      "Recall: 0.9896666666666667\n",
      "\n",
      "Fold 2\n",
      "Accuracy: 0.9986541049798116\n",
      "Precision: 0.9893333333333333\n",
      "Recall: 0.9893333333333333\n",
      "\n",
      "Fold 3\n",
      "Accuracy: 0.9985585168506224\n",
      "Precision: 0.9885833333333334\n",
      "Recall: 0.9885833333333334\n",
      "\n",
      "Fold 4\n",
      "Accuracy: 0.9986859395532195\n",
      "Precision: 0.9895833333333334\n",
      "Recall: 0.9895833333333334\n",
      "\n",
      "Fold 5\n",
      "Accuracy: 0.9988236282665323\n",
      "Precision: 0.9906658888240687\n",
      "Recall: 0.9906658888240687\n",
      "\n",
      "Averages of k=9\n",
      "Average Accuracy: 0.9986837475209214\n",
      "Average Precision: 0.9895665110981472\n",
      "Average Recall: 0.9895665110981472\n"
     ]
    }
   ],
   "source": [
    "accuracy_global = 0\n",
    "precision_global = 0\n",
    "recall_global = 0\n",
    "\n",
    "print('Results for k=9 Without Feature Normalization\\n')\n",
    "\n",
    "main(1,9)\n",
    "main(2,9)\n",
    "main(3,9)\n",
    "main(4,9)\n",
    "main(5,9)\n",
    "\n",
    "print(f'Averages of k=9')\n",
    "print('Average Accuracy:', accuracy_global/5)\n",
    "print('Average Precision:', precision_global/5)\n",
    "print('Average Recall:', recall_global/5)"
   ]
  },
  {
   "cell_type": "code",
   "execution_count": 57,
   "id": "51eab49e-0b84-4081-ac53-323786d5bb20",
   "metadata": {},
   "outputs": [],
   "source": [
    "#Here I applied 'Feature Normalization' on my X columns. "
   ]
  },
  {
   "cell_type": "code",
   "execution_count": 8,
   "id": "f0aa002e",
   "metadata": {},
   "outputs": [],
   "source": [
    "X1 = (X1+3)/6\n",
    "Y1 = Y1\n",
    "\n",
    "X2 = (X2+3)/6\n",
    "Y2 = Y2\n",
    "\n",
    "X3 = (X3+3)/6\n",
    "Y3 = Y3\n",
    "\n",
    "X4 = (X4+3)/6\n",
    "Y4 = Y4\n",
    "\n",
    "X5 = (X5+3)/6\n",
    "Y5 = Y5"
   ]
  },
  {
   "cell_type": "code",
   "execution_count": 58,
   "id": "4162f531-ede1-4d89-8d30-35a4d8178f09",
   "metadata": {},
   "outputs": [],
   "source": [
    "#Calculation for k=1 With Feature Normalization."
   ]
  },
  {
   "cell_type": "code",
   "execution_count": 8,
   "id": "4ac7d6da",
   "metadata": {},
   "outputs": [
    {
     "name": "stdout",
     "output_type": "stream",
     "text": [
      "Results for k=1 With Feature Normalization\n",
      "\n",
      "Fold 1\n",
      "Accuracy: 0.9968051118210862\n",
      "Precision: 0.975\n",
      "Recall: 0.975\n",
      "\n",
      "Fold 2\n",
      "Accuracy: 0.9972826086956522\n",
      "Precision: 0.9786666666666667\n",
      "Recall: 0.9786666666666667\n",
      "\n",
      "Fold 3\n",
      "Accuracy: 0.9970225435984688\n",
      "Precision: 0.9766666666666667\n",
      "Recall: 0.9766666666666667\n",
      "\n",
      "Fold 4\n",
      "Accuracy: 0.9964777457572846\n",
      "Precision: 0.9725\n",
      "Recall: 0.9725\n",
      "\n",
      "Fold 5\n",
      "Accuracy: 0.9970008295577819\n",
      "Precision: 0.9765\n",
      "Recall: 0.9765\n",
      "\n",
      "Averages of k=1\n",
      "Average Accuracy: 0.9969177678860547\n",
      "Average Precision: 0.9758666666666667\n",
      "Average Recall: 0.9758666666666667\n"
     ]
    }
   ],
   "source": [
    "accuracy_global = 0\n",
    "precision_global = 0\n",
    "recall_global = 0\n",
    "\n",
    "print('Results for k=1 With Feature Normalization\\n')\n",
    "\n",
    "main(1,1)\n",
    "main(2,1)\n",
    "main(3,1)\n",
    "main(4,1)\n",
    "main(5,1)\n",
    "\n",
    "print(f'Averages of k=1')\n",
    "print('Average Accuracy:', accuracy_global/5)\n",
    "print('Average Precision:', precision_global/5)\n",
    "print('Average Recall:', recall_global/5)"
   ]
  },
  {
   "cell_type": "code",
   "execution_count": 59,
   "id": "77eac519-19bf-49bb-bc1b-148425b07b23",
   "metadata": {},
   "outputs": [],
   "source": [
    "#Calculation for k=3 With Feature Normalization."
   ]
  },
  {
   "cell_type": "code",
   "execution_count": 9,
   "id": "351bf3bd",
   "metadata": {},
   "outputs": [
    {
     "name": "stdout",
     "output_type": "stream",
     "text": [
      "Results for k=3 With Feature Normalization\n",
      "\n",
      "Fold 1\n",
      "Accuracy: 0.9981642083939989\n",
      "Precision: 0.9855\n",
      "Recall: 0.9855\n",
      "\n",
      "Fold 2\n",
      "Accuracy: 0.9985053575563648\n",
      "Precision: 0.9881666666666666\n",
      "Recall: 0.9881666666666666\n",
      "\n",
      "Fold 3\n",
      "Accuracy: 0.9983563029460109\n",
      "Precision: 0.987\n",
      "Recall: 0.987\n",
      "\n",
      "Fold 4\n",
      "Accuracy: 0.9982496467660642\n",
      "Precision: 0.9861666666666666\n",
      "Recall: 0.9861666666666666\n",
      "\n",
      "Fold 5\n",
      "Accuracy: 0.9984415146792469\n",
      "Precision: 0.9876666666666667\n",
      "Recall: 0.9876666666666667\n",
      "\n",
      "Averages of k=3\n",
      "Average Accuracy: 0.9983434060683372\n",
      "Average Precision: 0.9869\n",
      "Average Recall: 0.9869\n"
     ]
    }
   ],
   "source": [
    "accuracy_global = 0\n",
    "precision_global = 0\n",
    "recall_global = 0\n",
    "\n",
    "print('Results for k=3 With Feature Normalization\\n')\n",
    "\n",
    "main(1,3)\n",
    "main(2,3)\n",
    "main(3,3)\n",
    "main(4,3)\n",
    "main(5,3)\n",
    "\n",
    "print(f'Averages of k=3')\n",
    "print('Average Accuracy:', accuracy_global/5)\n",
    "print('Average Precision:', precision_global/5)\n",
    "print('Average Recall:', recall_global/5)"
   ]
  },
  {
   "cell_type": "code",
   "execution_count": 60,
   "id": "e74ff45b-9b08-4f1f-8567-1c50eafd3fd0",
   "metadata": {},
   "outputs": [],
   "source": [
    "#Calculation for k=5 With Feature Normalization."
   ]
  },
  {
   "cell_type": "code",
   "execution_count": 10,
   "id": "14e63a76",
   "metadata": {},
   "outputs": [
    {
     "name": "stdout",
     "output_type": "stream",
     "text": [
      "Results for k=5 With Feature Normalization\n",
      "\n",
      "Fold 1\n",
      "Accuracy: 0.9983563029460109\n",
      "Precision: 0.987\n",
      "Recall: 0.987\n",
      "\n",
      "Fold 2\n",
      "Accuracy: 0.9985903936378363\n",
      "Precision: 0.9888333333333333\n",
      "Recall: 0.9888333333333333\n",
      "\n",
      "Fold 3\n",
      "Accuracy: 0.9984840828701365\n",
      "Precision: 0.988\n",
      "Recall: 0.988\n",
      "\n",
      "Fold 4\n",
      "Accuracy: 0.9984415146792469\n",
      "Precision: 0.9876666666666667\n",
      "Recall: 0.9876666666666667\n",
      "\n",
      "Fold 5\n",
      "Accuracy: 0.9985478881242502\n",
      "Precision: 0.9885\n",
      "Recall: 0.9885\n",
      "\n",
      "Averages of k=5\n",
      "Average Accuracy: 0.9984840364514962\n",
      "Average Precision: 0.9880000000000001\n",
      "Average Recall: 0.9880000000000001\n"
     ]
    }
   ],
   "source": [
    "accuracy_global = 0\n",
    "precision_global = 0\n",
    "recall_global = 0\n",
    "\n",
    "print('Results for k=5 With Feature Normalization\\n')\n",
    "\n",
    "main(1,5)\n",
    "main(2,5)\n",
    "main(3,5)\n",
    "main(4,5)\n",
    "main(5,5)\n",
    "\n",
    "print(f'Averages of k=5')\n",
    "print('Average Accuracy:', accuracy_global/5)\n",
    "print('Average Precision:', precision_global/5)\n",
    "print('Average Recall:', recall_global/5)"
   ]
  },
  {
   "cell_type": "code",
   "execution_count": 61,
   "id": "adbc34b9-9d26-4aa7-a98e-72a44a2e3257",
   "metadata": {},
   "outputs": [],
   "source": [
    "#Calculation for k=7 With Feature Normalization."
   ]
  },
  {
   "cell_type": "code",
   "execution_count": 11,
   "id": "8c153a8e",
   "metadata": {},
   "outputs": [
    {
     "name": "stdout",
     "output_type": "stream",
     "text": [
      "Results for k=7 With Feature Normalization\n",
      "\n",
      "Fold 1\n",
      "Accuracy: 0.9983349842982696\n",
      "Precision: 0.9868333333333333\n",
      "Recall: 0.9868333333333333\n",
      "\n",
      "Fold 2\n",
      "Accuracy: 0.9985691440114468\n",
      "Precision: 0.9886666666666667\n",
      "Recall: 0.9886666666666667\n",
      "\n",
      "Fold 3\n",
      "Accuracy: 0.9984415146792469\n",
      "Precision: 0.9876666666666667\n",
      "Recall: 0.9876666666666667\n",
      "\n",
      "Fold 4\n",
      "Accuracy: 0.9984415146792469\n",
      "Precision: 0.9876666666666667\n",
      "Recall: 0.9876666666666667\n",
      "\n",
      "Fold 5\n",
      "Accuracy: 0.9986116370061845\n",
      "Precision: 0.989\n",
      "Recall: 0.989\n",
      "\n",
      "Averages of k=7\n",
      "Average Accuracy: 0.9984797589348788\n",
      "Average Precision: 0.9879666666666667\n",
      "Average Recall: 0.9879666666666667\n"
     ]
    }
   ],
   "source": [
    "accuracy_global = 0\n",
    "precision_global = 0\n",
    "recall_global = 0\n",
    "\n",
    "print('Results for k=7 With Feature Normalization\\n')\n",
    "\n",
    "main(1,7)\n",
    "main(2,7)\n",
    "main(3,7)\n",
    "main(4,7)\n",
    "main(5,7)\n",
    "\n",
    "print(f'Averages of k=7')\n",
    "print('Average Accuracy:', accuracy_global/5)\n",
    "print('Average Precision:', precision_global/5)\n",
    "print('Average Recall:', recall_global/5)"
   ]
  },
  {
   "cell_type": "code",
   "execution_count": 62,
   "id": "2aa200fb-0ad1-44cc-a737-1fc8665cbe68",
   "metadata": {},
   "outputs": [],
   "source": [
    "#Calculation for k=9 With Feature Normalization."
   ]
  },
  {
   "cell_type": "code",
   "execution_count": 12,
   "id": "bbb95ff9",
   "metadata": {},
   "outputs": [
    {
     "name": "stdout",
     "output_type": "stream",
     "text": [
      "Results for k=9 With Feature Normalization\n",
      "\n",
      "Fold 1\n",
      "Accuracy: 0.9983563029460109\n",
      "Precision: 0.987\n",
      "Recall: 0.987\n",
      "\n",
      "Fold 2\n",
      "Accuracy: 0.9985691440114468\n",
      "Precision: 0.9886666666666667\n",
      "Recall: 0.9886666666666667\n",
      "\n",
      "Fold 3\n",
      "Accuracy: 0.9984628019120217\n",
      "Precision: 0.9878333333333333\n",
      "Recall: 0.9878333333333333\n",
      "\n",
      "Fold 4\n",
      "Accuracy: 0.9984628019120217\n",
      "Precision: 0.9878333333333333\n",
      "Recall: 0.9878333333333333\n",
      "\n",
      "Fold 5\n",
      "Accuracy: 0.9985903936378363\n",
      "Precision: 0.9888333333333333\n",
      "Recall: 0.9888333333333333\n",
      "\n",
      "Averages of k=9\n",
      "Average Accuracy: 0.9984882888838674\n",
      "Average Precision: 0.9880333333333333\n",
      "Average Recall: 0.9880333333333333\n"
     ]
    }
   ],
   "source": [
    "accuracy_global = 0\n",
    "precision_global = 0\n",
    "recall_global = 0\n",
    "\n",
    "print('Results for k=9 With Feature Normalization\\n')\n",
    "\n",
    "main(1,9)\n",
    "main(2,9)\n",
    "main(3,9)\n",
    "main(4,9)\n",
    "main(5,9)\n",
    "\n",
    "print(f'Averages of k=9')\n",
    "print('Average Accuracy:', accuracy_global/5)\n",
    "print('Average Precision:', precision_global/5)\n",
    "print('Average Recall:', recall_global/5)"
   ]
  },
  {
   "cell_type": "code",
   "execution_count": null,
   "id": "e34dc05f-10a9-4901-9d10-84e360190fdd",
   "metadata": {},
   "outputs": [],
   "source": []
  },
  {
   "cell_type": "code",
   "execution_count": null,
   "id": "bf1ac77d-e05f-48b9-ae8b-9f20aee0960b",
   "metadata": {},
   "outputs": [],
   "source": []
  },
  {
   "cell_type": "code",
   "execution_count": 74,
   "id": "b29813d1-899d-44b2-a560-5f06cf25124e",
   "metadata": {},
   "outputs": [],
   "source": [
    "#Error Analysis for Classification"
   ]
  },
  {
   "cell_type": "code",
   "execution_count": 71,
   "id": "77c1420c-d61d-4d86-a84d-e327dcd25397",
   "metadata": {},
   "outputs": [
    {
     "data": {
      "image/png": "[encoded data removed]",
      "text/plain": [
       "<Figure size 640x480 with 1 Axes>"
      ]
     },
     "metadata": {},
     "output_type": "display_data"
    }
   ],
   "source": [
    "x = np.array(['k=1 ','k=3 ','k=5', 'k=7', 'k=9'])\n",
    "y = np.array([0.9970962051162007,0.9985414404972712,0.9986179461243075,0.9986561593007842,0.9986837475209214])\n",
    "\n",
    "plt.xlabel(\"K values\")\n",
    "plt.ylabel(\"Average Accuracy\")\n",
    "\n",
    "plt.title('Average Accuracy Without Feature Normalization')\n",
    "\n",
    "\n",
    "plt.scatter(x, y)\n",
    "plt.show()"
   ]
  },
  {
   "cell_type": "code",
   "execution_count": 70,
   "id": "b5e7a9c3-0eab-4802-a582-725e11a9e657",
   "metadata": {},
   "outputs": [
    {
     "data": {
      "image/png": "[encoded data removed]",
      "text/plain": [
       "<Figure size 640x480 with 1 Axes>"
      ]
     },
     "metadata": {},
     "output_type": "display_data"
    }
   ],
   "source": [
    "x = np.array(['k=1 ','k=3 ','k=5', 'k=7', 'k=9'])\n",
    "y = np.array([0.9969177678860547,0.9983434060683372,0.9984840364514962,0.9984797589348788,0.9984882888838674])\n",
    "\n",
    "plt.xlabel(\"K values\")\n",
    "plt.ylabel(\"Average Accuracy\")\n",
    "\n",
    "plt.title('Average Accuracy With Feature Normalization')\n",
    "\n",
    "plt.scatter(x, y)\n",
    "plt.show()"
   ]
  },
  {
   "cell_type": "code",
   "execution_count": 69,
   "id": "aa7e147a-8dd3-4beb-8b2e-0dad98876fd7",
   "metadata": {},
   "outputs": [
    {
     "data": {
      "image/png": "[encoded data removed]",
      "text/plain": [
       "<Figure size 640x480 with 1 Axes>"
      ]
     },
     "metadata": {},
     "output_type": "display_data"
    }
   ],
   "source": [
    "x = np.array(['k=1 ','k=3 ','k=5', 'k=7', 'k=9'])\n",
    "y = np.array([0.9772329777481458, 0.9884498235964108,0.9890498333194433, 0.9893498388754619,0.9895665110981472])\n",
    "\n",
    "plt.xlabel(\"K values\")\n",
    "plt.ylabel(\"Average Precision\")\n",
    "\n",
    "plt.title('Average Precision Without Feature Normalization')\n",
    "\n",
    "\n",
    "plt.scatter(x, y)\n",
    "plt.show()"
   ]
  },
  {
   "cell_type": "code",
   "execution_count": 68,
   "id": "24f126f0-9339-451f-baa2-26bd2774ebd3",
   "metadata": {},
   "outputs": [
    {
     "data": {
      "image/png": "[encoded data removed]",
      "text/plain": [
       "<Figure size 640x480 with 1 Axes>"
      ]
     },
     "metadata": {},
     "output_type": "display_data"
    }
   ],
   "source": [
    "x = np.array(['k=1 ','k=3 ','k=5', 'k=7', 'k=9'])\n",
    "y = np.array([ 0.9758666666666667,0.9869, 0.9880000000000001,0.9879666666666667, 0.9880333333333333])\n",
    "\n",
    "plt.xlabel(\"K values\")\n",
    "plt.ylabel(\"Average Precision\")\n",
    "\n",
    "plt.title('Average Precision With Feature Normalization')\n",
    "\n",
    "\n",
    "plt.scatter(x, y)\n",
    "plt.show()"
   ]
  },
  {
   "cell_type": "code",
   "execution_count": 67,
   "id": "d6381629-b593-4a8e-bc1f-936bbc41ad6f",
   "metadata": {},
   "outputs": [
    {
     "data": {
      "image/png": "[encoded data removed]",
      "text/plain": [
       "<Figure size 640x480 with 1 Axes>"
      ]
     },
     "metadata": {},
     "output_type": "display_data"
    }
   ],
   "source": [
    "x = np.array(['k=1 ','k=3 ','k=5', 'k=7', 'k=9'])\n",
    "y = np.array([0.9772329777481458, 0.9884498235964108,0.9890498333194433, 0.9893498388754619,0.9895665110981472])\n",
    "\n",
    "plt.xlabel(\"K values\")\n",
    "plt.ylabel(\"Average Recall\")\n",
    "\n",
    "plt.title('Average Recall Without Feature Normalization')\n",
    "\n",
    "\n",
    "plt.scatter(x, y)\n",
    "plt.show()"
   ]
  },
  {
   "cell_type": "code",
   "execution_count": 66,
   "id": "c7c7cb9d-7a8c-454c-8c16-c8ae25e56a40",
   "metadata": {},
   "outputs": [
    {
     "data": {
      "image/png": "[encoded data removed]",
      "text/plain": [
       "<Figure size 640x480 with 1 Axes>"
      ]
     },
     "metadata": {},
     "output_type": "display_data"
    }
   ],
   "source": [
    "x = np.array(['k=1 ','k=3 ','k=5', 'k=7', 'k=9'])\n",
    "y = np.array([ 0.9758666666666667,0.9869, 0.9880000000000001,0.9879666666666667, 0.9880333333333333])\n",
    "\n",
    "plt.xlabel(\"K values\")\n",
    "plt.ylabel(\"Average Recall\")\n",
    "\n",
    "plt.title('Average Recall With Feature Normalization')\n",
    "\n",
    "\n",
    "plt.scatter(x, y)\n",
    "plt.show()"
   ]
  },
  {
   "cell_type": "code",
   "execution_count": 82,
   "id": "93453430-2bb3-48ac-a32e-ec129c7a720a",
   "metadata": {},
   "outputs": [],
   "source": [
    "#As we can see from above graphs our accuracy, precision and recall values can vary depending on the k value. They are so close to each other but k=1 is the least efficient all of them.\n",
    "#K=5 and K=9 are the most efficient ones."
   ]
  },
  {
   "cell_type": "code",
   "execution_count": 89,
   "id": "d577d49f-d9ae-4f85-8d5a-4fb1eb818417",
   "metadata": {},
   "outputs": [
    {
     "data": {
      "image/png": "[encoded data removed]",
      "text/plain": [
       "<Figure size 640x480 with 1 Axes>"
      ]
     },
     "metadata": {},
     "output_type": "display_data"
    }
   ],
   "source": [
    "x = ['Average Accuracy','Average Precision','Average Recall']\n",
    "y = [0.9982308756784122,0.9860415651304276,0.9860415651304276]\n",
    "plt.ylabel(\"Values\")\n",
    "\n",
    "plt.title(\"Total Averages of 'Average', 'Precision' and 'Recall'\")\n",
    "\n",
    "\n",
    "plt.scatter(x, y)\n",
    "plt.show()"
   ]
  },
  {
   "cell_type": "code",
   "execution_count": 86,
   "id": "8131c088-21ca-45f7-9d3c-33b53adde2b1",
   "metadata": {},
   "outputs": [],
   "source": [
    "#Total accuracy is the highest with 0.998 among precision and recall. Average precision and average recall have same value, it is interesting."
   ]
  }
 ],
 "metadata": {
  "kernelspec": {
   "display_name": "Python 3 (ipykernel)",
   "language": "python",
   "name": "python3"
  },
  "language_info": {
   "codemirror_mode": {
    "name": "ipython",
    "version": 3
   },
   "file_extension": ".py",
   "mimetype": "text/x-python",
   "name": "python",
   "nbconvert_exporter": "python",
   "pygments_lexer": "ipython3",
   "version": "3.10.6"
  }
 },
 "nbformat": 4,
 "nbformat_minor": 5
}
